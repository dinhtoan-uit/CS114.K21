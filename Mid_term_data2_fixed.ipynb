{
  "nbformat": 4,
  "nbformat_minor": 0,
  "metadata": {
    "colab": {
      "name": "Mid-term-data2-fixed.ipynb",
      "provenance": [],
      "collapsed_sections": [],
      "authorship_tag": "ABX9TyN2+4ltYMxMyu8DkugvrwMx",
      "include_colab_link": true
    },
    "kernelspec": {
      "name": "python3",
      "display_name": "Python 3"
    }
  },
  "cells": [
    {
      "cell_type": "markdown",
      "metadata": {
        "id": "view-in-github",
        "colab_type": "text"
      },
      "source": [
        "<a href=\"https://colab.research.google.com/github/dinhtoan-uit/CS114.K21/blob/master/Mid_term_data2_fixed.ipynb\" target=\"_parent\"><img src=\"https://colab.research.google.com/assets/colab-badge.svg\" alt=\"Open In Colab\"/></a>"
      ]
    },
    {
      "cell_type": "markdown",
      "metadata": {
        "id": "bFOQ_eAZ8Kt-",
        "colab_type": "text"
      },
      "source": [
        "Tiến hành import các thư viện cần thiết cho bài toán:\n",
        "- pandas để đọc file dữ liệu với định dạng csv\n",
        "- numpy để thực hiện tính toán với mảng dữ liệu\n",
        "- matplotlib với hàm pyplot để trực quan hóa dữ liệu, giúp ta chọn được model để train cho phù hợp"
      ]
    },
    {
      "cell_type": "code",
      "metadata": {
        "id": "cPvgkM-CsoVC",
        "colab_type": "code",
        "colab": {}
      },
      "source": [
        "import pandas as pd\n",
        "import numpy as np\n",
        "import matplotlib.pyplot as plt"
      ],
      "execution_count": 23,
      "outputs": []
    },
    {
      "cell_type": "markdown",
      "metadata": {
        "id": "fWERqBEJuXP7",
        "colab_type": "text"
      },
      "source": [
        "Sử dụng wget để lấy dữ liệu từ web về, bằng cách download file data2.txt về ổ đĩa ảo của Google Colab\n",
        "\n",
        "\n"
      ]
    },
    {
      "cell_type": "code",
      "metadata": {
        "id": "D6yDneebtBLK",
        "colab_type": "code",
        "colab": {
          "base_uri": "https://localhost:8080/",
          "height": 210
        },
        "outputId": "6b75739a-cc6d-4fc4-c0be-eb0d02764895"
      },
      "source": [
        "!wget http://cs.uit.edu.vn/data2.txt"
      ],
      "execution_count": 24,
      "outputs": [
        {
          "output_type": "stream",
          "text": [
            "--2020-06-25 10:51:25--  http://cs.uit.edu.vn/data2.txt\n",
            "Resolving cs.uit.edu.vn (cs.uit.edu.vn)... 118.69.123.142\n",
            "Connecting to cs.uit.edu.vn (cs.uit.edu.vn)|118.69.123.142|:80... connected.\n",
            "HTTP request sent, awaiting response... 200 OK\n",
            "Length: 1203726 (1.1M) [text/plain]\n",
            "Saving to: ‘data2.txt.1’\n",
            "\n",
            "data2.txt.1         100%[===================>]   1.15M  1.22MB/s    in 0.9s    \n",
            "\n",
            "2020-06-25 10:51:26 (1.22 MB/s) - ‘data2.txt.1’ saved [1203726/1203726]\n",
            "\n"
          ],
          "name": "stdout"
        }
      ]
    },
    {
      "cell_type": "markdown",
      "metadata": {
        "id": "7CKEHat9vSxZ",
        "colab_type": "text"
      },
      "source": [
        "Tiếp đến ta dùng phương thức read_csv trong thư viện pandas để đọc dữ liệu từ file đã tải về"
      ]
    },
    {
      "cell_type": "code",
      "metadata": {
        "id": "0GYuJMoculRq",
        "colab_type": "code",
        "colab": {}
      },
      "source": [
        "dataset = pd.read_csv('data2.txt', header=None)"
      ],
      "execution_count": 25,
      "outputs": []
    },
    {
      "cell_type": "markdown",
      "metadata": {
        "id": "sn0sK2gV9iej",
        "colab_type": "text"
      },
      "source": [
        "Sử dụng phương thức head() không tham số, ta thu được 5 hàng đầu tiên trong bộ dữ liệu. Từ đó quan sát được bộ dữ liệu gồm 2 cột"
      ]
    },
    {
      "cell_type": "code",
      "metadata": {
        "id": "2ha5cPpe9e8W",
        "colab_type": "code",
        "colab": {
          "base_uri": "https://localhost:8080/",
          "height": 195
        },
        "outputId": "82995d87-041e-4b5a-c508-1eb527fe65ef"
      },
      "source": [
        "dataset.head()"
      ],
      "execution_count": 26,
      "outputs": [
        {
          "output_type": "execute_result",
          "data": {
            "text/html": [
              "<div>\n",
              "<style scoped>\n",
              "    .dataframe tbody tr th:only-of-type {\n",
              "        vertical-align: middle;\n",
              "    }\n",
              "\n",
              "    .dataframe tbody tr th {\n",
              "        vertical-align: top;\n",
              "    }\n",
              "\n",
              "    .dataframe thead th {\n",
              "        text-align: right;\n",
              "    }\n",
              "</style>\n",
              "<table border=\"1\" class=\"dataframe\">\n",
              "  <thead>\n",
              "    <tr style=\"text-align: right;\">\n",
              "      <th></th>\n",
              "      <th>0</th>\n",
              "      <th>1</th>\n",
              "    </tr>\n",
              "  </thead>\n",
              "  <tbody>\n",
              "    <tr>\n",
              "      <th>0</th>\n",
              "      <td>6083695</td>\n",
              "      <td>0.521842</td>\n",
              "    </tr>\n",
              "    <tr>\n",
              "      <th>1</th>\n",
              "      <td>1954367</td>\n",
              "      <td>0.152648</td>\n",
              "    </tr>\n",
              "    <tr>\n",
              "      <th>2</th>\n",
              "      <td>3734185</td>\n",
              "      <td>0.298548</td>\n",
              "    </tr>\n",
              "    <tr>\n",
              "      <th>3</th>\n",
              "      <td>5839301</td>\n",
              "      <td>0.460480</td>\n",
              "    </tr>\n",
              "    <tr>\n",
              "      <th>4</th>\n",
              "      <td>6343427</td>\n",
              "      <td>0.527977</td>\n",
              "    </tr>\n",
              "  </tbody>\n",
              "</table>\n",
              "</div>"
            ],
            "text/plain": [
              "         0         1\n",
              "0  6083695  0.521842\n",
              "1  1954367  0.152648\n",
              "2  3734185  0.298548\n",
              "3  5839301  0.460480\n",
              "4  6343427  0.527977"
            ]
          },
          "metadata": {
            "tags": []
          },
          "execution_count": 26
        }
      ]
    },
    {
      "cell_type": "markdown",
      "metadata": {
        "id": "T_eSKWs-9UdV",
        "colab_type": "text"
      },
      "source": [
        "Cột 0 là cột đặc tính có ảnh hưởng tới thời gian thực thi chương trình. Do đó, ta thiết lập vector X là cột đầu tiên. Cột đặc tính chỉ có 1 chiều.\n",
        "Cột 1 là cột kết quả thời gian thực thi chương trình. Do đó, ta thiết lập vector Y là cột tiếp theo."
      ]
    },
    {
      "cell_type": "code",
      "metadata": {
        "id": "8iIY0SSovOMd",
        "colab_type": "code",
        "colab": {}
      },
      "source": [
        "X = np.array(dataset.iloc[:, 0].values).reshape(-1, 1)\n",
        "Y = np.array(dataset.iloc[:, 1].values)"
      ],
      "execution_count": 27,
      "outputs": []
    },
    {
      "cell_type": "markdown",
      "metadata": {
        "id": "aJz7TF3W-Wfa",
        "colab_type": "text"
      },
      "source": [
        "Thực hiện import thư viện scikitlearn để ta sử dụng phương thức train_test_split() trong module model_selection"
      ]
    },
    {
      "cell_type": "code",
      "metadata": {
        "id": "ov46-kmY_Qse",
        "colab_type": "code",
        "colab": {}
      },
      "source": [
        "from sklearn.model_selection import train_test_split"
      ],
      "execution_count": 28,
      "outputs": []
    },
    {
      "cell_type": "markdown",
      "metadata": {
        "id": "NMZ8gJkO_nfg",
        "colab_type": "text"
      },
      "source": [
        "Ta chia bộ dữ liệu thành 2 tập train để huấn luyện và tập test để dự đoán kết quả từ model tìm được từ tập train với tỉ lệ train, test là 0.8 và 0.2"
      ]
    },
    {
      "cell_type": "code",
      "metadata": {
        "id": "ZgrxLBNf_keq",
        "colab_type": "code",
        "colab": {}
      },
      "source": [
        "X_train, X_test, Y_train, Y_test = train_test_split(X, Y, train_size = 0.8, random_state = 0)"
      ],
      "execution_count": 29,
      "outputs": []
    },
    {
      "cell_type": "markdown",
      "metadata": {
        "id": "4IRnsp9bwX3J",
        "colab_type": "text"
      },
      "source": [
        "Trực quan hóa dữ liệu thông qua các hàm\n",
        "- scatter để trực quan hóa từng cặp điểm (Xi,Yi) trên mặt phẳng tọa độ, với thuộc tính color='red' thì từng điểm sẽ được tô bằng màu đỏ\n",
        "- title để đặt tên cho đồ thị là \"H\"\n",
        "- xlabel, ylabel để lần lượt đặt tên cho trục hoành, trục tung là \"Feature\" và \"Time\"\n",
        "- show để vẽ đồ thị và in ra màn hình"
      ]
    },
    {
      "cell_type": "code",
      "metadata": {
        "id": "rBPylIV3wT5-",
        "colab_type": "code",
        "colab": {
          "base_uri": "https://localhost:8080/",
          "height": 295
        },
        "outputId": "f1a11840-949d-4cf4-a9ec-1b7f1d8f2cc4"
      },
      "source": [
        "plt.scatter(X_train, Y_train, color = \"red\")\n",
        "plt.title(\"H\")\n",
        "plt.xlabel(\"Feature\")\n",
        "plt.ylabel(\"Time\")\n",
        "plt.show()"
      ],
      "execution_count": 30,
      "outputs": [
        {
          "output_type": "display_data",
          "data": {
            "image/png": "[encoded data removed]",
            "text/plain": [
              "<Figure size 432x288 with 1 Axes>"
            ]
          },
          "metadata": {
            "tags": [],
            "needs_background": "light"
          }
        }
      ]
    },
    {
      "cell_type": "markdown",
      "metadata": {
        "id": "cmlQ-9Rlwx-a",
        "colab_type": "text"
      },
      "source": [
        "Từ đây ta thấy X, Y là dữ liệu không liên tục; đồng thời X chỉ có 1 chiều nên ta sử dụng Linear Regression"
      ]
    },
    {
      "cell_type": "markdown",
      "metadata": {
        "id": "aDWt9g8_BPXT",
        "colab_type": "text"
      },
      "source": [
        "Tiến hành import linear_model trong thư viện sklearn để sử dụng phương thức LinearRegression()"
      ]
    },
    {
      "cell_type": "code",
      "metadata": {
        "id": "l2gQe5P9Bidn",
        "colab_type": "code",
        "colab": {}
      },
      "source": [
        "from sklearn.linear_model import LinearRegression"
      ],
      "execution_count": 31,
      "outputs": []
    },
    {
      "cell_type": "markdown",
      "metadata": {
        "id": "BU4XQaqmBpGn",
        "colab_type": "text"
      },
      "source": [
        "Biến thực thể regressor là nhân tố để người dùng có thể tác động đối với model thu được"
      ]
    },
    {
      "cell_type": "code",
      "metadata": {
        "id": "gROx7MAWB02v",
        "colab_type": "code",
        "colab": {}
      },
      "source": [
        "regressor = LinearRegression()"
      ],
      "execution_count": 32,
      "outputs": []
    },
    {
      "cell_type": "markdown",
      "metadata": {
        "id": "Il2ZvybnB3Fe",
        "colab_type": "text"
      },
      "source": [
        "Phương thức fit() hỗ trợ người dùng thiết kế model dựa trên tập dữ liệu train"
      ]
    },
    {
      "cell_type": "code",
      "metadata": {
        "id": "4lQvpK0dwznR",
        "colab_type": "code",
        "colab": {
          "base_uri": "https://localhost:8080/",
          "height": 34
        },
        "outputId": "6ef10ed4-6916-4900-cd2e-4130b97de7b6"
      },
      "source": [
        "regressor.fit(X_train, Y_train)"
      ],
      "execution_count": 33,
      "outputs": [
        {
          "output_type": "execute_result",
          "data": {
            "text/plain": [
              "LinearRegression(copy_X=True, fit_intercept=True, n_jobs=None, normalize=False)"
            ]
          },
          "metadata": {
            "tags": []
          },
          "execution_count": 33
        }
      ]
    },
    {
      "cell_type": "markdown",
      "metadata": {
        "id": "nhlFXuPWw9KW",
        "colab_type": "text"
      },
      "source": [
        "Trực quan hóa model với Y_train_pred là dự đoán có được thông qua việc sử dụng model với đặc tính X_train. Đồng thời, trực quan hóa model bằng phương thức plot() với color='blue' cho ta model được tô bằng màu xanh dương"
      ]
    },
    {
      "cell_type": "code",
      "metadata": {
        "id": "0ctT-Y9Fw6VT",
        "colab_type": "code",
        "colab": {
          "base_uri": "https://localhost:8080/",
          "height": 295
        },
        "outputId": "5a4ed325-4fb2-40de-d105-a8144a52091c"
      },
      "source": [
        "Y_train_pred = regressor.predict(X_train)\n",
        "plt.scatter(X_train, Y_train, color = \"red\")\n",
        "plt.plot(X_train, Y_train_pred, color = \"blue\")\n",
        "plt.title(\"H\")\n",
        "plt.xlabel(\"Feature\")\n",
        "plt.ylabel(\"Time\")\n",
        "plt.show()"
      ],
      "execution_count": 34,
      "outputs": [
        {
          "output_type": "display_data",
          "data": {
            "image/png": "[encoded data removed]",
            "text/plain": [
              "<Figure size 432x288 with 1 Axes>"
            ]
          },
          "metadata": {
            "tags": [],
            "needs_background": "light"
          }
        }
      ]
    },
    {
      "cell_type": "markdown",
      "metadata": {
        "id": "w6Mfj0LIxEhb",
        "colab_type": "text"
      },
      "source": [
        "Với model ta thiết kế được, thực hiện dự đoán kết quả Y_test_pred với đặc tính X_test. Sau đó trực quan hóa dữ liệu test thu được lên đồ thị"
      ]
    },
    {
      "cell_type": "code",
      "metadata": {
        "id": "CLApjrUixIMF",
        "colab_type": "code",
        "colab": {
          "base_uri": "https://localhost:8080/",
          "height": 295
        },
        "outputId": "ba43fb77-21af-40d2-8aa0-b9f92e72f527"
      },
      "source": [
        "Y_test_pred = regressor.predict(X_test)\n",
        "plt.scatter(X_test, Y_test, color = \"red\")\n",
        "plt.plot(X_test, Y_test_pred, color = \"blue\")\n",
        "plt.title(\"H\")\n",
        "plt.xlabel(\"Feature\")\n",
        "plt.ylabel(\"Time\")\n",
        "plt.show()"
      ],
      "execution_count": 35,
      "outputs": [
        {
          "output_type": "display_data",
          "data": {
            "image/png": "[encoded data removed]",
            "text/plain": [
              "<Figure size 432x288 with 1 Axes>"
            ]
          },
          "metadata": {
            "tags": [],
            "needs_background": "light"
          }
        }
      ]
    },
    {
      "cell_type": "markdown",
      "metadata": {
        "id": "-D2DG0uGxOS_",
        "colab_type": "text"
      },
      "source": [
        "Để kiểm tra mức độ lỗi của một mô hình, chúng ta có thể sử dụng Mean Squared Error. Đây là một trong các phương pháp để đo trung bình của ô vuông của sai số. Về cơ bản, nó sẽ kiểm tra sự khác biệt giữa giá trị thực tế và giá trị dự đoán. Để sử dụng nó, chúng ta có thể sử dụng hàm bình phương trung bình sai số của scikit-learn bằng cách chạy đoạn mã này. Như vậy, ta đã tính được MSE của mô hình này, với mô hình khác, ta cũng có thể tính MSE tương tự sau đó so sánh 2 giá trị này, MSE càng nhỏ model càng tốt."
      ]
    },
    {
      "cell_type": "markdown",
      "metadata": {
        "id": "p4hkslOjC5Ny",
        "colab_type": "text"
      },
      "source": [
        "Để tránh tính toán, ta có thể trực tiếp import hàm mean_squared_error() từ phương thức metrics trong thư viện sklearn để tiến hành đo đạc lỗi"
      ]
    },
    {
      "cell_type": "code",
      "metadata": {
        "id": "tozestgGDIKW",
        "colab_type": "code",
        "colab": {}
      },
      "source": [
        "from sklearn.metrics import mean_squared_error"
      ],
      "execution_count": 36,
      "outputs": []
    },
    {
      "cell_type": "code",
      "metadata": {
        "id": "dGBuoXwixvno",
        "colab_type": "code",
        "colab": {
          "base_uri": "https://localhost:8080/",
          "height": 34
        },
        "outputId": "4a4b2a0f-2901-435f-ba7d-25a2848f79fe"
      },
      "source": [
        "mse = mean_squared_error(Y_test, Y_test_pred)\n",
        "print(mse)"
      ],
      "execution_count": 37,
      "outputs": [
        {
          "output_type": "stream",
          "text": [
            "0.00015229169816456062\n"
          ],
          "name": "stdout"
        }
      ]
    },
    {
      "cell_type": "markdown",
      "metadata": {
        "id": "2-YbKLr6E0aU",
        "colab_type": "text"
      },
      "source": [
        "Tiến hành import module Pickle để lưu lại model đã được huấn luyện"
      ]
    },
    {
      "cell_type": "code",
      "metadata": {
        "id": "6c6h_T19E6Bj",
        "colab_type": "code",
        "colab": {}
      },
      "source": [
        "import pickle"
      ],
      "execution_count": 38,
      "outputs": []
    },
    {
      "cell_type": "markdown",
      "metadata": {
        "id": "-7iEBLvuE7-U",
        "colab_type": "text"
      },
      "source": [
        "Đặc tên cho file để lưu model là 'time_prediction'"
      ]
    },
    {
      "cell_type": "code",
      "metadata": {
        "id": "fln_McrIFGuR",
        "colab_type": "code",
        "colab": {}
      },
      "source": [
        "filename = 'time_prediction'"
      ],
      "execution_count": 39,
      "outputs": []
    },
    {
      "cell_type": "markdown",
      "metadata": {
        "id": "IrS8CQvLFNkk",
        "colab_type": "text"
      },
      "source": [
        "Lưu model vào file trong thư mục hiện hành để phục vụ cho sau này"
      ]
    },
    {
      "cell_type": "code",
      "metadata": {
        "id": "5YciHlSJFSJG",
        "colab_type": "code",
        "colab": {}
      },
      "source": [
        "with open(filename, 'wb') as file:\n",
        "  pickle.dump(regressor, file)"
      ],
      "execution_count": 40,
      "outputs": []
    }
  ]
}