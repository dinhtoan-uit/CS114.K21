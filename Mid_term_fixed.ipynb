{
  "nbformat": 4,
  "nbformat_minor": 0,
  "metadata": {
    "colab": {
      "name": "Mid-term-fixed.ipynb",
      "provenance": [],
      "collapsed_sections": [],
      "authorship_tag": "ABX9TyMXHnaFjy5B1DPVH7/vUa0b",
      "include_colab_link": true
    },
    "kernelspec": {
      "name": "python3",
      "display_name": "Python 3"
    }
  },
  "cells": [
    {
      "cell_type": "markdown",
      "metadata": {
        "id": "view-in-github",
        "colab_type": "text"
      },
      "source": [
        "<a href=\"https://colab.research.google.com/github/dinhtoan-uit/CS114.K21/blob/master/Mid_term_fixed.ipynb\" target=\"_parent\"><img src=\"https://colab.research.google.com/assets/colab-badge.svg\" alt=\"Open In Colab\"/></a>"
      ]
    },
    {
      "cell_type": "markdown",
      "metadata": {
        "id": "bFOQ_eAZ8Kt-",
        "colab_type": "text"
      },
      "source": [
        "Tiến hành import các thư viện cần thiết cho bài toán:\n",
        "- pandas để đọc file dữ liệu với định dạng csv\n",
        "- numpy để thực hiện tính toán với mảng dữ liệu\n",
        "- matplotlib với hàm pyplot để trực quan hóa dữ liệu, giúp ta chọn được model để train cho phù hợp"
      ]
    },
    {
      "cell_type": "code",
      "metadata": {
        "id": "cPvgkM-CsoVC",
        "colab_type": "code",
        "colab": {}
      },
      "source": [
        "import pandas as pd\n",
        "import numpy as np\n",
        "import matplotlib.pyplot as plt"
      ],
      "execution_count": 65,
      "outputs": []
    },
    {
      "cell_type": "markdown",
      "metadata": {
        "id": "fWERqBEJuXP7",
        "colab_type": "text"
      },
      "source": [
        "Sử dụng wget để lấy dữ liệu từ web về, bằng cách download file data2.txt về ổ đĩa ảo của Google Colab"
      ]
    },
    {
      "cell_type": "code",
      "metadata": {
        "id": "D6yDneebtBLK",
        "colab_type": "code",
        "colab": {
          "base_uri": "https://localhost:8080/",
          "height": 210
        },
        "outputId": "eb9a2103-a967-416a-d85f-035588df371f"
      },
      "source": [
        "!wget http://cs.uit.edu.vn/data2.txt"
      ],
      "execution_count": 66,
      "outputs": [
        {
          "output_type": "stream",
          "text": [
            "--2020-06-25 11:20:53--  http://cs.uit.edu.vn/data2.txt\n",
            "Resolving cs.uit.edu.vn (cs.uit.edu.vn)... 118.69.123.142\n",
            "Connecting to cs.uit.edu.vn (cs.uit.edu.vn)|118.69.123.142|:80... connected.\n",
            "HTTP request sent, awaiting response... 200 OK\n",
            "Length: 1203726 (1.1M) [text/plain]\n",
            "Saving to: ‘data2.txt.1’\n",
            "\n",
            "data2.txt.1         100%[===================>]   1.15M  1.15MB/s    in 1.0s    \n",
            "\n",
            "2020-06-25 11:20:54 (1.15 MB/s) - ‘data2.txt.1’ saved [1203726/1203726]\n",
            "\n"
          ],
          "name": "stdout"
        }
      ]
    },
    {
      "cell_type": "markdown",
      "metadata": {
        "id": "7CKEHat9vSxZ",
        "colab_type": "text"
      },
      "source": [
        "Tiếp đến ta dùng phương thức read_csv trong thư viện pandas để đọc dữ liệu từ file đã tải về"
      ]
    },
    {
      "cell_type": "code",
      "metadata": {
        "id": "0GYuJMoculRq",
        "colab_type": "code",
        "colab": {}
      },
      "source": [
        "dataset = pd.read_csv('data2.txt', header=None)"
      ],
      "execution_count": 67,
      "outputs": []
    },
    {
      "cell_type": "markdown",
      "metadata": {
        "id": "sn0sK2gV9iej",
        "colab_type": "text"
      },
      "source": [
        "Sử dụng phương thức head() không tham số, ta thu được 5 hàng đầu tiên trong bộ dữ liệu. Từ đó quan sát được bộ dữ liệu gồm 2 cột"
      ]
    },
    {
      "cell_type": "code",
      "metadata": {
        "id": "2ha5cPpe9e8W",
        "colab_type": "code",
        "colab": {
          "base_uri": "https://localhost:8080/",
          "height": 195
        },
        "outputId": "6af54e69-5333-4f61-ed09-f414039143ed"
      },
      "source": [
        "dataset.head()"
      ],
      "execution_count": 68,
      "outputs": [
        {
          "output_type": "execute_result",
          "data": {
            "text/html": [
              "<div>\n",
              "<style scoped>\n",
              "    .dataframe tbody tr th:only-of-type {\n",
              "        vertical-align: middle;\n",
              "    }\n",
              "\n",
              "    .dataframe tbody tr th {\n",
              "        vertical-align: top;\n",
              "    }\n",
              "\n",
              "    .dataframe thead th {\n",
              "        text-align: right;\n",
              "    }\n",
              "</style>\n",
              "<table border=\"1\" class=\"dataframe\">\n",
              "  <thead>\n",
              "    <tr style=\"text-align: right;\">\n",
              "      <th></th>\n",
              "      <th>0</th>\n",
              "      <th>1</th>\n",
              "    </tr>\n",
              "  </thead>\n",
              "  <tbody>\n",
              "    <tr>\n",
              "      <th>0</th>\n",
              "      <td>6083695</td>\n",
              "      <td>0.521842</td>\n",
              "    </tr>\n",
              "    <tr>\n",
              "      <th>1</th>\n",
              "      <td>1954367</td>\n",
              "      <td>0.152648</td>\n",
              "    </tr>\n",
              "    <tr>\n",
              "      <th>2</th>\n",
              "      <td>3734185</td>\n",
              "      <td>0.298548</td>\n",
              "    </tr>\n",
              "    <tr>\n",
              "      <th>3</th>\n",
              "      <td>5839301</td>\n",
              "      <td>0.460480</td>\n",
              "    </tr>\n",
              "    <tr>\n",
              "      <th>4</th>\n",
              "      <td>6343427</td>\n",
              "      <td>0.527977</td>\n",
              "    </tr>\n",
              "  </tbody>\n",
              "</table>\n",
              "</div>"
            ],
            "text/plain": [
              "         0         1\n",
              "0  6083695  0.521842\n",
              "1  1954367  0.152648\n",
              "2  3734185  0.298548\n",
              "3  5839301  0.460480\n",
              "4  6343427  0.527977"
            ]
          },
          "metadata": {
            "tags": []
          },
          "execution_count": 68
        }
      ]
    },
    {
      "cell_type": "markdown",
      "metadata": {
        "id": "T_eSKWs-9UdV",
        "colab_type": "text"
      },
      "source": [
        "Cột 0 là cột đặc tính có ảnh hưởng tới thời gian thực thi chương trình. Do đó, ta thiết lập vector X là cột đầu tiên. Cột đặc tính chỉ có 1 chiều.\n",
        "Cột 1 là cột kết quả thời gian thực thi chương trình. Do đó, ta thiết lập vector Y là cột tiếp theo."
      ]
    },
    {
      "cell_type": "code",
      "metadata": {
        "id": "8iIY0SSovOMd",
        "colab_type": "code",
        "colab": {}
      },
      "source": [
        "X = np.array(dataset.iloc[:, 0].values).reshape(-1, 1)\n",
        "Y = np.array(dataset.iloc[:, 1].values)"
      ],
      "execution_count": 69,
      "outputs": []
    },
    {
      "cell_type": "markdown",
      "metadata": {
        "id": "aJz7TF3W-Wfa",
        "colab_type": "text"
      },
      "source": [
        "Thực hiện import thư viện scikitlearn để ta sử dụng phương thức train_test_split() trong module model_selection"
      ]
    },
    {
      "cell_type": "code",
      "metadata": {
        "id": "ov46-kmY_Qse",
        "colab_type": "code",
        "colab": {}
      },
      "source": [
        "from sklearn.model_selection import train_test_split"
      ],
      "execution_count": 70,
      "outputs": []
    },
    {
      "cell_type": "markdown",
      "metadata": {
        "id": "NMZ8gJkO_nfg",
        "colab_type": "text"
      },
      "source": [
        "Ta chia bộ dữ liệu thành 2 tập train để huấn luyện và tập test để dự đoán kết quả từ model tìm được từ tập train với tỉ lệ train, test là 0.8 và 0.2"
      ]
    },
    {
      "cell_type": "code",
      "metadata": {
        "id": "ZgrxLBNf_keq",
        "colab_type": "code",
        "colab": {}
      },
      "source": [
        "X_train, X_test, Y_train, Y_test = train_test_split(X, Y, train_size = 0.8, random_state = 0)"
      ],
      "execution_count": 71,
      "outputs": []
    },
    {
      "cell_type": "markdown",
      "metadata": {
        "id": "4IRnsp9bwX3J",
        "colab_type": "text"
      },
      "source": [
        "Trực quan hóa dữ liệu thông qua các hàm\n",
        "- scatter để trực quan hóa từng cặp điểm (Xi,Yi) trên mặt phẳng tọa độ, với thuộc tính color='red' thì từng điểm sẽ được tô bằng màu đỏ\n",
        "- title để đặt tên cho đồ thị là \"H\"\n",
        "- xlabel, ylabel để lần lượt đặt tên cho trục hoành, trục tung là \"Feature\" và \"Time\"\n",
        "- show để vẽ đồ thị và in ra màn hình"
      ]
    },
    {
      "cell_type": "code",
      "metadata": {
        "id": "rBPylIV3wT5-",
        "colab_type": "code",
        "colab": {
          "base_uri": "https://localhost:8080/",
          "height": 295
        },
        "outputId": "ee4917ad-6feb-4a71-e9db-dffed153ea80"
      },
      "source": [
        "plt.scatter(X_train, Y_train, color = \"red\")\n",
        "plt.title(\"H\")\n",
        "plt.xlabel(\"Feature\")\n",
        "plt.ylabel(\"Time\")\n",
        "plt.show()"
      ],
      "execution_count": 72,
      "outputs": [
        {
          "output_type": "display_data",
          "data": {
            "image/png": "[encoded data removed]",
            "text/plain": [
              "<Figure size 432x288 with 1 Axes>"
            ]
          },
          "metadata": {
            "tags": [],
            "needs_background": "light"
          }
        }
      ]
    },
    {
      "cell_type": "markdown",
      "metadata": {
        "id": "cmlQ-9Rlwx-a",
        "colab_type": "text"
      },
      "source": [
        "Từ đây ta thấy X, Y là dữ liệu không liên tục; đồng thời X chỉ có 1 chiều nên ta sử dụng Linear Regression"
      ]
    },
    {
      "cell_type": "markdown",
      "metadata": {
        "id": "aDWt9g8_BPXT",
        "colab_type": "text"
      },
      "source": [
        "Tiến hành import linear_model trong thư viện sklearn để sử dụng phương thức LinearRegression()"
      ]
    },
    {
      "cell_type": "code",
      "metadata": {
        "id": "l2gQe5P9Bidn",
        "colab_type": "code",
        "colab": {}
      },
      "source": [
        "from sklearn.linear_model import LinearRegression"
      ],
      "execution_count": 73,
      "outputs": []
    },
    {
      "cell_type": "markdown",
      "metadata": {
        "id": "BU4XQaqmBpGn",
        "colab_type": "text"
      },
      "source": [
        "Biến thực thể regressor là nhân tố để người dùng có thể tác động đối với model thu được"
      ]
    },
    {
      "cell_type": "code",
      "metadata": {
        "id": "gROx7MAWB02v",
        "colab_type": "code",
        "colab": {}
      },
      "source": [
        "regressor = LinearRegression()"
      ],
      "execution_count": 74,
      "outputs": []
    },
    {
      "cell_type": "markdown",
      "metadata": {
        "id": "Il2ZvybnB3Fe",
        "colab_type": "text"
      },
      "source": [
        "Phương thức fit() hỗ trợ người dùng thiết kế model dựa trên tập dữ liệu train"
      ]
    },
    {
      "cell_type": "code",
      "metadata": {
        "id": "4lQvpK0dwznR",
        "colab_type": "code",
        "colab": {
          "base_uri": "https://localhost:8080/",
          "height": 34
        },
        "outputId": "2b88d4cf-5b84-457f-da89-2243e43244e3"
      },
      "source": [
        "regressor.fit(X_train, Y_train)"
      ],
      "execution_count": 75,
      "outputs": [
        {
          "output_type": "execute_result",
          "data": {
            "text/plain": [
              "LinearRegression(copy_X=True, fit_intercept=True, n_jobs=None, normalize=False)"
            ]
          },
          "metadata": {
            "tags": []
          },
          "execution_count": 75
        }
      ]
    },
    {
      "cell_type": "markdown",
      "metadata": {
        "id": "nhlFXuPWw9KW",
        "colab_type": "text"
      },
      "source": [
        "Trực quan hóa model với Y_train_pred là dự đoán có được thông qua việc sử dụng model với đặc tính X_train. Đồng thời, trực quan hóa model bằng phương thức plot() với color='blue' cho ta model được tô bằng màu xanh dương"
      ]
    },
    {
      "cell_type": "code",
      "metadata": {
        "id": "0ctT-Y9Fw6VT",
        "colab_type": "code",
        "colab": {
          "base_uri": "https://localhost:8080/",
          "height": 295
        },
        "outputId": "cb81b35f-003c-4a56-8f19-0d8cb24305d0"
      },
      "source": [
        "Y_train_pred = regressor.predict(X_train)\n",
        "plt.scatter(X_train, Y_train, color = \"red\")\n",
        "plt.plot(X_train, Y_train_pred, color = \"blue\")\n",
        "plt.title(\"H\")\n",
        "plt.xlabel(\"Feature\")\n",
        "plt.ylabel(\"Time\")\n",
        "plt.show()"
      ],
      "execution_count": 76,
      "outputs": [
        {
          "output_type": "display_data",
          "data": {
            "image/png": "[encoded data removed]",
            "text/plain": [
              "<Figure size 432x288 with 1 Axes>"
            ]
          },
          "metadata": {
            "tags": [],
            "needs_background": "light"
          }
        }
      ]
    },
    {
      "cell_type": "markdown",
      "metadata": {
        "id": "w6Mfj0LIxEhb",
        "colab_type": "text"
      },
      "source": [
        "Với model ta thiết kế được, thực hiện dự đoán kết quả Y_test_pred với đặc tính X_test. Sau đó trực quan hóa dữ liệu test thu được lên đồ thị"
      ]
    },
    {
      "cell_type": "code",
      "metadata": {
        "id": "CLApjrUixIMF",
        "colab_type": "code",
        "colab": {
          "base_uri": "https://localhost:8080/",
          "height": 295
        },
        "outputId": "d69f670a-5c3b-45b7-aea0-0879e1d73a9a"
      },
      "source": [
        "Y_test_pred = regressor.predict(X_test)\n",
        "plt.scatter(X_test, Y_test, color = \"red\")\n",
        "plt.plot(X_test, Y_test_pred, color = \"blue\")\n",
        "plt.title(\"H\")\n",
        "plt.xlabel(\"Feature\")\n",
        "plt.ylabel(\"Time\")\n",
        "plt.show()"
      ],
      "execution_count": 77,
      "outputs": [
        {
          "output_type": "display_data",
          "data": {
            "image/png": "[encoded data removed]",
            "text/plain": [
              "<Figure size 432x288 with 1 Axes>"
            ]
          },
          "metadata": {
            "tags": [],
            "needs_background": "light"
          }
        }
      ]
    },
    {
      "cell_type": "markdown",
      "metadata": {
        "id": "-D2DG0uGxOS_",
        "colab_type": "text"
      },
      "source": [
        "Để kiểm tra mức độ lỗi của một mô hình, chúng ta có thể sử dụng Mean Squared Error. Đây là một trong các phương pháp để đo trung bình của ô vuông của sai số. Về cơ bản, nó sẽ kiểm tra sự khác biệt giữa giá trị thực tế và giá trị dự đoán. Để sử dụng nó, chúng ta có thể sử dụng hàm bình phương trung bình sai số của scikit-learn bằng cách chạy đoạn mã này. Như vậy, ta đã tính được MSE của mô hình này, với mô hình khác, ta cũng có thể tính MSE tương tự sau đó so sánh 2 giá trị này, MSE càng nhỏ model càng tốt."
      ]
    },
    {
      "cell_type": "markdown",
      "metadata": {
        "id": "p4hkslOjC5Ny",
        "colab_type": "text"
      },
      "source": [
        "Để tránh tính toán, ta có thể trực tiếp import hàm mean_squared_error() từ phương thức metrics trong thư viện sklearn để tiến hành đo đạc lỗi"
      ]
    },
    {
      "cell_type": "code",
      "metadata": {
        "id": "tozestgGDIKW",
        "colab_type": "code",
        "colab": {}
      },
      "source": [
        "from sklearn.metrics import mean_squared_error"
      ],
      "execution_count": 78,
      "outputs": []
    },
    {
      "cell_type": "code",
      "metadata": {
        "id": "dGBuoXwixvno",
        "colab_type": "code",
        "colab": {
          "base_uri": "https://localhost:8080/",
          "height": 34
        },
        "outputId": "2e1cc3b1-c240-4c3e-912e-a415be78e98d"
      },
      "source": [
        "mse = mean_squared_error(Y_test, Y_test_pred)\n",
        "print(mse)"
      ],
      "execution_count": 79,
      "outputs": [
        {
          "output_type": "stream",
          "text": [
            "0.00015229169816456062\n"
          ],
          "name": "stdout"
        }
      ]
    },
    {
      "cell_type": "markdown",
      "metadata": {
        "id": "2-YbKLr6E0aU",
        "colab_type": "text"
      },
      "source": [
        "Tiến hành import module Pickle để lưu lại model đã được huấn luyện"
      ]
    },
    {
      "cell_type": "code",
      "metadata": {
        "id": "6c6h_T19E6Bj",
        "colab_type": "code",
        "colab": {}
      },
      "source": [
        "import pickle"
      ],
      "execution_count": 80,
      "outputs": []
    },
    {
      "cell_type": "markdown",
      "metadata": {
        "id": "-7iEBLvuE7-U",
        "colab_type": "text"
      },
      "source": [
        "Đặc tên cho file để lưu model là 'time_prediction'"
      ]
    },
    {
      "cell_type": "code",
      "metadata": {
        "id": "fln_McrIFGuR",
        "colab_type": "code",
        "colab": {}
      },
      "source": [
        "filename = 'time_prediction'"
      ],
      "execution_count": 81,
      "outputs": []
    },
    {
      "cell_type": "markdown",
      "metadata": {
        "id": "IrS8CQvLFNkk",
        "colab_type": "text"
      },
      "source": [
        "Lưu model vào file trong thư mục hiện hành để phục vụ cho sau này"
      ]
    },
    {
      "cell_type": "code",
      "metadata": {
        "id": "5YciHlSJFSJG",
        "colab_type": "code",
        "colab": {}
      },
      "source": [
        "with open(filename, 'wb') as file:\n",
        "  pickle.dump(regressor, file)"
      ],
      "execution_count": 82,
      "outputs": []
    },
    {
      "cell_type": "markdown",
      "metadata": {
        "id": "IOTfYKbSKzNt",
        "colab_type": "text"
      },
      "source": [
        "Sử dụng wget để lấy dữ liệu từ web về, bằng cách download file data3.txt về ổ đĩa ảo của Google Colab"
      ]
    },
    {
      "cell_type": "code",
      "metadata": {
        "id": "QEZhcxO-LQtC",
        "colab_type": "code",
        "colab": {
          "base_uri": "https://localhost:8080/",
          "height": 210
        },
        "outputId": "b67342fa-5514-4ff5-92e9-55a59be583b6"
      },
      "source": [
        "!wget http://cs.uit.edu.vn/data3.txt"
      ],
      "execution_count": 83,
      "outputs": [
        {
          "output_type": "stream",
          "text": [
            "--2020-06-25 11:20:57--  http://cs.uit.edu.vn/data3.txt\n",
            "Resolving cs.uit.edu.vn (cs.uit.edu.vn)... 118.69.123.142\n",
            "Connecting to cs.uit.edu.vn (cs.uit.edu.vn)|118.69.123.142|:80... connected.\n",
            "HTTP request sent, awaiting response... 200 OK\n",
            "Length: 178891 (175K) [text/plain]\n",
            "Saving to: ‘data3.txt.1’\n",
            "\n",
            "data3.txt.1         100%[===================>] 174.70K   370KB/s    in 0.5s    \n",
            "\n",
            "2020-06-25 11:20:59 (370 KB/s) - ‘data3.txt.1’ saved [178891/178891]\n",
            "\n"
          ],
          "name": "stdout"
        }
      ]
    },
    {
      "cell_type": "markdown",
      "metadata": {
        "id": "H0oJ9dwzLh-k",
        "colab_type": "text"
      },
      "source": [
        "Tiếp đến ta dùng phương thức read_csv trong thư viện pandas để đọc dữ liệu từ file đã tải về"
      ]
    },
    {
      "cell_type": "code",
      "metadata": {
        "id": "eUqfjsjNLkCX",
        "colab_type": "code",
        "colab": {}
      },
      "source": [
        "dataset1 = pd.read_csv('data3.txt', header=None)"
      ],
      "execution_count": 84,
      "outputs": []
    },
    {
      "cell_type": "markdown",
      "metadata": {
        "id": "CQDsm0ukLoJ-",
        "colab_type": "text"
      },
      "source": [
        "Sử dụng phương thức head() không tham số, ta thu được 5 hàng đầu tiên trong bộ dữ liệu. Từ đó quan sát được bộ dữ liệu gồm 2 cột"
      ]
    },
    {
      "cell_type": "code",
      "metadata": {
        "id": "P7f13cD_Lov6",
        "colab_type": "code",
        "colab": {
          "base_uri": "https://localhost:8080/",
          "height": 195
        },
        "outputId": "f83042fe-a71b-4660-da2d-3f58d01e32c1"
      },
      "source": [
        "dataset1.head()"
      ],
      "execution_count": 85,
      "outputs": [
        {
          "output_type": "execute_result",
          "data": {
            "text/html": [
              "<div>\n",
              "<style scoped>\n",
              "    .dataframe tbody tr th:only-of-type {\n",
              "        vertical-align: middle;\n",
              "    }\n",
              "\n",
              "    .dataframe tbody tr th {\n",
              "        vertical-align: top;\n",
              "    }\n",
              "\n",
              "    .dataframe thead th {\n",
              "        text-align: right;\n",
              "    }\n",
              "</style>\n",
              "<table border=\"1\" class=\"dataframe\">\n",
              "  <thead>\n",
              "    <tr style=\"text-align: right;\">\n",
              "      <th></th>\n",
              "      <th>0</th>\n",
              "      <th>1</th>\n",
              "    </tr>\n",
              "  </thead>\n",
              "  <tbody>\n",
              "    <tr>\n",
              "      <th>0</th>\n",
              "      <td>37837612</td>\n",
              "      <td>4.12166</td>\n",
              "    </tr>\n",
              "    <tr>\n",
              "      <th>1</th>\n",
              "      <td>37395246</td>\n",
              "      <td>3.92089</td>\n",
              "    </tr>\n",
              "    <tr>\n",
              "      <th>2</th>\n",
              "      <td>36610827</td>\n",
              "      <td>3.21540</td>\n",
              "    </tr>\n",
              "    <tr>\n",
              "      <th>3</th>\n",
              "      <td>29555651</td>\n",
              "      <td>2.54506</td>\n",
              "    </tr>\n",
              "    <tr>\n",
              "      <th>4</th>\n",
              "      <td>25928216</td>\n",
              "      <td>2.21831</td>\n",
              "    </tr>\n",
              "  </tbody>\n",
              "</table>\n",
              "</div>"
            ],
            "text/plain": [
              "          0        1\n",
              "0  37837612  4.12166\n",
              "1  37395246  3.92089\n",
              "2  36610827  3.21540\n",
              "3  29555651  2.54506\n",
              "4  25928216  2.21831"
            ]
          },
          "metadata": {
            "tags": []
          },
          "execution_count": 85
        }
      ]
    },
    {
      "cell_type": "markdown",
      "metadata": {
        "id": "BFIn9az3LrfZ",
        "colab_type": "text"
      },
      "source": [
        "Cột 0 là cột đặc tính có ảnh hưởng tới thời gian thực thi chương trình. Do đó, ta thiết lập vector X là cột đầu tiên. Cột đặc tính chỉ có 1 chiều.\n",
        "Cột 1 là cột kết quả thời gian thực thi chương trình. Do đó, ta thiết lập vector Y là cột tiếp theo."
      ]
    },
    {
      "cell_type": "code",
      "metadata": {
        "id": "0uZTDoL_LuuB",
        "colab_type": "code",
        "colab": {}
      },
      "source": [
        "X1 = np.array(dataset1.iloc[:, 0].values).reshape(-1, 1)\n",
        "Y1 = np.array(dataset1.iloc[:, 1].values)"
      ],
      "execution_count": 86,
      "outputs": []
    },
    {
      "cell_type": "markdown",
      "metadata": {
        "id": "3jje4lCBLzQl",
        "colab_type": "text"
      },
      "source": [
        "Ta chia bộ dữ liệu thành 2 tập train để huấn luyện và tập test để dự đoán kết quả từ model tìm được từ tập train với tỉ lệ train, test là 0.8 và 0.2"
      ]
    },
    {
      "cell_type": "code",
      "metadata": {
        "id": "PSeQwNakL1iG",
        "colab_type": "code",
        "colab": {}
      },
      "source": [
        "X1_train, X1_test, Y1_train, Y1_test = train_test_split(X1, Y1, train_size = 0.8, random_state = 0)"
      ],
      "execution_count": 87,
      "outputs": []
    },
    {
      "cell_type": "markdown",
      "metadata": {
        "id": "suGBqIszL8Sf",
        "colab_type": "text"
      },
      "source": [
        "Trực quan hóa dữ liệu thông qua các hàm\n",
        "- scatter để trực quan hóa từng cặp điểm (Xi,Yi) trên mặt phẳng tọa độ, với thuộc tính color='red' thì từng điểm sẽ được tô bằng màu đỏ\n",
        "- title để đặt tên cho đồ thị là \"H\"\n",
        "- xlabel, ylabel để lần lượt đặt tên cho trục hoành, trục tung là \"Feature\" và \"Time\"\n",
        "- show để vẽ đồ thị và in ra màn hình"
      ]
    },
    {
      "cell_type": "code",
      "metadata": {
        "id": "jMoDDr9BL968",
        "colab_type": "code",
        "colab": {
          "base_uri": "https://localhost:8080/",
          "height": 295
        },
        "outputId": "02d1b9e5-63da-493f-9aef-a69349b1e150"
      },
      "source": [
        "plt.scatter(X1_train, Y1_train, color = \"red\")\n",
        "plt.title(\"H\")\n",
        "plt.xlabel(\"Feature\")\n",
        "plt.ylabel(\"Time\")\n",
        "plt.show()"
      ],
      "execution_count": 88,
      "outputs": [
        {
          "output_type": "display_data",
          "data": {
            "image/png": "[encoded data removed]",
            "text/plain": [
              "<Figure size 432x288 with 1 Axes>"
            ]
          },
          "metadata": {
            "tags": [],
            "needs_background": "light"
          }
        }
      ]
    },
    {
      "cell_type": "markdown",
      "metadata": {
        "id": "z555WAT_MMA0",
        "colab_type": "text"
      },
      "source": [
        "Từ đây ta thấy X, Y là dữ liệu không liên tục; đồng thời X chỉ có 1 chiều nên ta sử dụng Linear Regression. Ta sử dụng lại model có được từ data2 đang lưu trong thư mục hiện hành."
      ]
    },
    {
      "cell_type": "code",
      "metadata": {
        "id": "sfgfHqEbMQAk",
        "colab_type": "code",
        "colab": {}
      },
      "source": [
        "with open(filename, 'rb') as file:\n",
        "  regressor1 = pickle.load(file)"
      ],
      "execution_count": 89,
      "outputs": []
    },
    {
      "cell_type": "markdown",
      "metadata": {
        "id": "zNOj4oU9MVwZ",
        "colab_type": "text"
      },
      "source": [
        "Trực quan hóa model với Y_train_pred là dự đoán có được thông qua việc sử dụng model với đặc tính X_train. Đồng thời, trực quan hóa model bằng phương thức plot() với color='blue' cho ta model được tô bằng màu xanh dương"
      ]
    },
    {
      "cell_type": "code",
      "metadata": {
        "id": "qvUUoxzUMWeC",
        "colab_type": "code",
        "colab": {
          "base_uri": "https://localhost:8080/",
          "height": 295
        },
        "outputId": "4881368c-5079-40ea-882b-69a90eeff302"
      },
      "source": [
        "Y1_train_pred = regressor1.predict(X1_train)\n",
        "plt.scatter(X1_train, Y1_train, color = \"red\")\n",
        "plt.plot(X1_train, Y1_train_pred, color = \"blue\")\n",
        "plt.title(\"H\")\n",
        "plt.xlabel(\"Feature\")\n",
        "plt.ylabel(\"Time\")\n",
        "plt.show()"
      ],
      "execution_count": 90,
      "outputs": [
        {
          "output_type": "display_data",
          "data": {
            "image/png": "[encoded data removed]",
            "text/plain": [
              "<Figure size 432x288 with 1 Axes>"
            ]
          },
          "metadata": {
            "tags": [],
            "needs_background": "light"
          }
        }
      ]
    },
    {
      "cell_type": "markdown",
      "metadata": {
        "id": "tr3B6N5BMh6n",
        "colab_type": "text"
      },
      "source": [
        "Với model ta thiết kế được, thực hiện dự đoán kết quả Y_test_pred với đặc tính X_test. Sau đó trực quan hóa dữ liệu test thu được lên đồ thị"
      ]
    },
    {
      "cell_type": "code",
      "metadata": {
        "id": "JUcSU3VUMiha",
        "colab_type": "code",
        "colab": {
          "base_uri": "https://localhost:8080/",
          "height": 295
        },
        "outputId": "205bb81f-5e91-4139-a192-729363679d8e"
      },
      "source": [
        "Y1_test_pred = regressor1.predict(X1_test)\n",
        "plt.scatter(X1_test, Y1_test, color = \"red\")\n",
        "plt.plot(X1_test, Y1_test_pred, color = \"blue\")\n",
        "plt.title(\"H\")\n",
        "plt.xlabel(\"Feature\")\n",
        "plt.ylabel(\"Time\")\n",
        "plt.show()"
      ],
      "execution_count": 91,
      "outputs": [
        {
          "output_type": "display_data",
          "data": {
            "image/png": "[encoded data removed]",
            "text/plain": [
              "<Figure size 432x288 with 1 Axes>"
            ]
          },
          "metadata": {
            "tags": [],
            "needs_background": "light"
          }
        }
      ]
    },
    {
      "cell_type": "markdown",
      "metadata": {
        "id": "3yTakp3mMo0i",
        "colab_type": "text"
      },
      "source": [
        "Để kiểm tra mức độ lỗi của một mô hình, chúng ta có thể sử dụng Mean Squared Error. Đây là một trong các phương pháp để đo trung bình của ô vuông của sai số. Về cơ bản, nó sẽ kiểm tra sự khác biệt giữa giá trị thực tế và giá trị dự đoán. Để sử dụng nó, chúng ta có thể sử dụng hàm bình phương trung bình sai số của scikit-learn bằng cách chạy đoạn mã này. Như vậy, ta đã tính được MSE của mô hình này, với mô hình khác, ta cũng có thể tính MSE tương tự sau đó so sánh 2 giá trị này, MSE càng nhỏ model càng tốt."
      ]
    },
    {
      "cell_type": "code",
      "metadata": {
        "id": "yWVeAaihMqp2",
        "colab_type": "code",
        "colab": {
          "base_uri": "https://localhost:8080/",
          "height": 34
        },
        "outputId": "9c1b0050-771b-4e92-dff2-b0fb7ee04d1e"
      },
      "source": [
        "mse1 = mean_squared_error(Y1_test, Y1_test_pred)\n",
        "print(mse1)"
      ],
      "execution_count": 92,
      "outputs": [
        {
          "output_type": "stream",
          "text": [
            "0.01976411591291961\n"
          ],
          "name": "stdout"
        }
      ]
    },
    {
      "cell_type": "markdown",
      "metadata": {
        "id": "qQh2sHjmNql_",
        "colab_type": "text"
      },
      "source": [
        "Model mới có kết quả không được cải thiện nhiều hơn so với model cũ. Vì sau khi tăng thêm feature nên model cho hồi quy tuyến tính sẽ dự đoán không chính xác nữa, hay ta có thể nói đây là trường hợp underfitting."
      ]
    }
  ]
}