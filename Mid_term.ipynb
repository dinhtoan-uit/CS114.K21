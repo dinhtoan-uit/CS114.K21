{
  "nbformat": 4,
  "nbformat_minor": 0,
  "metadata": {
    "colab": {
      "name": "Mid-term.ipynb",
      "provenance": [],
      "authorship_tag": "ABX9TyP/NWDR7diOd2prxX2zkn2Y",
      "include_colab_link": true
    },
    "kernelspec": {
      "name": "python3",
      "display_name": "Python 3"
    }
  },
  "cells": [
    {
      "cell_type": "markdown",
      "metadata": {
        "id": "view-in-github",
        "colab_type": "text"
      },
      "source": [
        "<a href=\"https://colab.research.google.com/github/dinhtoan-uit/CS114.K21/blob/master/Mid_term.ipynb\" target=\"_parent\"><img src=\"https://colab.research.google.com/assets/colab-badge.svg\" alt=\"Open In Colab\"/></a>"
      ]
    },
    {
      "cell_type": "code",
      "metadata": {
        "id": "s3QB5T3qt-ID",
        "colab_type": "code",
        "colab": {
          "base_uri": "https://localhost:8080/",
          "height": 168
        },
        "outputId": "38f8495b-359e-45a3-eefa-b0aaa30b952d"
      },
      "source": [
        "!pip install wget "
      ],
      "execution_count": 29,
      "outputs": [
        {
          "output_type": "stream",
          "text": [
            "Collecting wget\n",
            "  Downloading https://files.pythonhosted.org/packages/47/6a/62e288da7bcda82b935ff0c6cfe542970f04e29c756b0e147251b2fb251f/wget-3.2.zip\n",
            "Building wheels for collected packages: wget\n",
            "  Building wheel for wget (setup.py) ... \u001b[?25l\u001b[?25hdone\n",
            "  Created wheel for wget: filename=wget-3.2-cp36-none-any.whl size=9682 sha256=092a310037a33ebb44761596c941055741968d6cf19a46cb01252e420e7b61d9\n",
            "  Stored in directory: /root/.cache/pip/wheels/40/15/30/7d8f7cea2902b4db79e3fea550d7d7b85ecb27ef992b618f3f\n",
            "Successfully built wget\n",
            "Installing collected packages: wget\n",
            "Successfully installed wget-3.2\n"
          ],
          "name": "stdout"
        }
      ]
    },
    {
      "cell_type": "code",
      "metadata": {
        "id": "cPvgkM-CsoVC",
        "colab_type": "code",
        "colab": {}
      },
      "source": [
        "import pandas as pd\n",
        "import numpy as np\n",
        "import matplotlib.pyplot as plt\n",
        "import wget\n",
        "from sklearn.linear_model import LinearRegression\n",
        "from sklearn.model_selection import train_test_split\n",
        "from sklearn.metrics import mean_squared_error"
      ],
      "execution_count": 0,
      "outputs": []
    },
    {
      "cell_type": "markdown",
      "metadata": {
        "id": "fWERqBEJuXP7",
        "colab_type": "text"
      },
      "source": [
        "Sử dụng wget để lấy dữ liệu từ web về, bằng cách download file data2.txt về ổ đĩa ảo của Google Colab\n",
        "\n",
        "\n"
      ]
    },
    {
      "cell_type": "code",
      "metadata": {
        "id": "D6yDneebtBLK",
        "colab_type": "code",
        "colab": {
          "base_uri": "https://localhost:8080/",
          "height": 202
        },
        "outputId": "0e2f15af-c7be-41f3-b050-41b1846dd2f5"
      },
      "source": [
        "!wget http://cs.uit.edu.vn/data2.txt"
      ],
      "execution_count": 31,
      "outputs": [
        {
          "output_type": "stream",
          "text": [
            "--2020-06-12 08:51:38--  http://cs.uit.edu.vn/data2.txt\n",
            "Resolving cs.uit.edu.vn (cs.uit.edu.vn)... 118.69.123.142\n",
            "Connecting to cs.uit.edu.vn (cs.uit.edu.vn)|118.69.123.142|:80... connected.\n",
            "HTTP request sent, awaiting response... 200 OK\n",
            "Length: 1203726 (1.1M) [text/plain]\n",
            "Saving to: ‘data2.txt’\n",
            "\n",
            "data2.txt           100%[===================>]   1.15M   644KB/s    in 1.8s    \n",
            "\n",
            "2020-06-12 08:51:41 (644 KB/s) - ‘data2.txt’ saved [1203726/1203726]\n",
            "\n"
          ],
          "name": "stdout"
        }
      ]
    },
    {
      "cell_type": "markdown",
      "metadata": {
        "id": "7CKEHat9vSxZ",
        "colab_type": "text"
      },
      "source": [
        "Tiếp đến ta dùng phương thức read_csv trong thư viện pandas để đọc dữ liệu từ file đã tải về"
      ]
    },
    {
      "cell_type": "code",
      "metadata": {
        "id": "0GYuJMoculRq",
        "colab_type": "code",
        "colab": {}
      },
      "source": [
        "dataset = pd.read_csv('data2.txt', header=None)"
      ],
      "execution_count": 0,
      "outputs": []
    },
    {
      "cell_type": "code",
      "metadata": {
        "id": "8iIY0SSovOMd",
        "colab_type": "code",
        "colab": {}
      },
      "source": [
        "X = np.array(dataset.iloc[:, 0].values).reshape(-1, 1)\n",
        "Y = np.array(dataset.iloc[:, 1].values)\n",
        "X_train, X_test, Y_train, Y_test = train_test_split(X, Y, train_size = 0.8, random_state = 0)"
      ],
      "execution_count": 0,
      "outputs": []
    },
    {
      "cell_type": "markdown",
      "metadata": {
        "id": "4IRnsp9bwX3J",
        "colab_type": "text"
      },
      "source": [
        "Trực quan hóa dữ liệu"
      ]
    },
    {
      "cell_type": "code",
      "metadata": {
        "id": "rBPylIV3wT5-",
        "colab_type": "code",
        "colab": {
          "base_uri": "https://localhost:8080/",
          "height": 295
        },
        "outputId": "1a4de6ac-8cac-43a8-c83b-15a8b9be9c8b"
      },
      "source": [
        "plt.scatter(X_train, Y_train, color = \"red\")\n",
        "plt.title(\"H\")\n",
        "plt.xlabel(\"Feature\")\n",
        "plt.ylabel(\"Time\")\n",
        "plt.show()"
      ],
      "execution_count": 37,
      "outputs": [
        {
          "output_type": "display_data",
          "data": {
            "image/png": "[encoded data removed]",
            "text/plain": [
              "<Figure size 432x288 with 1 Axes>"
            ]
          },
          "metadata": {
            "tags": [],
            "needs_background": "light"
          }
        }
      ]
    },
    {
      "cell_type": "markdown",
      "metadata": {
        "id": "cmlQ-9Rlwx-a",
        "colab_type": "text"
      },
      "source": [
        "Từ đây ta thấy X, Y là dữ liệu không liên tục; đồng thời X chỉ có 1 chiều nên ta sử dụng Linear Regression"
      ]
    },
    {
      "cell_type": "code",
      "metadata": {
        "id": "4lQvpK0dwznR",
        "colab_type": "code",
        "colab": {
          "base_uri": "https://localhost:8080/",
          "height": 34
        },
        "outputId": "6d2914dd-2126-405a-d77e-0f92665a867b"
      },
      "source": [
        "regressor = LinearRegression()\n",
        "regressor.fit(X_train, Y_train)"
      ],
      "execution_count": 38,
      "outputs": [
        {
          "output_type": "execute_result",
          "data": {
            "text/plain": [
              "LinearRegression(copy_X=True, fit_intercept=True, n_jobs=None, normalize=False)"
            ]
          },
          "metadata": {
            "tags": []
          },
          "execution_count": 38
        }
      ]
    },
    {
      "cell_type": "markdown",
      "metadata": {
        "id": "nhlFXuPWw9KW",
        "colab_type": "text"
      },
      "source": [
        "Trực quan hóa model"
      ]
    },
    {
      "cell_type": "code",
      "metadata": {
        "id": "0ctT-Y9Fw6VT",
        "colab_type": "code",
        "colab": {
          "base_uri": "https://localhost:8080/",
          "height": 295
        },
        "outputId": "a65148c4-4d14-4dc1-8afe-31abf8d72338"
      },
      "source": [
        "Y_train_pred = regressor.predict(X_train)\n",
        "plt.scatter(X_train, Y_train, color = \"red\")\n",
        "plt.plot(X_train, Y_train_pred, color = \"blue\")\n",
        "plt.title(\"H\")\n",
        "plt.xlabel(\"Feature\")\n",
        "plt.ylabel(\"Time\")\n",
        "plt.show()"
      ],
      "execution_count": 39,
      "outputs": [
        {
          "output_type": "display_data",
          "data": {
            "image/png": "[encoded data removed]",
            "text/plain": [
              "<Figure size 432x288 with 1 Axes>"
            ]
          },
          "metadata": {
            "tags": [],
            "needs_background": "light"
          }
        }
      ]
    },
    {
      "cell_type": "markdown",
      "metadata": {
        "id": "w6Mfj0LIxEhb",
        "colab_type": "text"
      },
      "source": [
        "Kiểm tra model với data test"
      ]
    },
    {
      "cell_type": "code",
      "metadata": {
        "id": "CLApjrUixIMF",
        "colab_type": "code",
        "colab": {
          "base_uri": "https://localhost:8080/",
          "height": 295
        },
        "outputId": "eeab7904-bf6e-4664-e21a-78318e51a139"
      },
      "source": [
        "Y_test_pred = regressor.predict(X_test)\n",
        "plt.scatter(X_test, Y_test, color = \"red\")\n",
        "plt.plot(X_test, Y_test_pred, color = \"blue\")\n",
        "plt.title(\"H\")\n",
        "plt.xlabel(\"Feature\")\n",
        "plt.ylabel(\"Time\")\n",
        "plt.show()"
      ],
      "execution_count": 40,
      "outputs": [
        {
          "output_type": "display_data",
          "data": {
            "image/png": "[encoded data removed]",
            "text/plain": [
              "<Figure size 432x288 with 1 Axes>"
            ]
          },
          "metadata": {
            "tags": [],
            "needs_background": "light"
          }
        }
      ]
    },
    {
      "cell_type": "markdown",
      "metadata": {
        "id": "-D2DG0uGxOS_",
        "colab_type": "text"
      },
      "source": [
        "Để kiểm tra mức độ lỗi của một mô hình, chúng ta có thể sử dụng Mean Squared Error. Đây là một trong các phương pháp để đo trung bình của ô vuông của sai số. Về cơ bản, nó sẽ kiểm tra sự khác biệt giữa giá trị thực tế và giá trị dự đoán. Để sử dụng nó, chúng ta có thể sử dụng hàm bình phương trung bình sai số của scikit-learn bằng cách chạy đoạn mã này. Như vậy, ta đã tính được MSE của mô hình này, với mô hình khác, ta cũng có thể tính MSE tương tự sao đó so sánh 2 giá trị này, MSE càng nhỏ model càng tốt"
      ]
    },
    {
      "cell_type": "code",
      "metadata": {
        "id": "dGBuoXwixvno",
        "colab_type": "code",
        "colab": {
          "base_uri": "https://localhost:8080/",
          "height": 178
        },
        "outputId": "e8ae19f0-b25c-4f68-bba1-8317925131b0"
      },
      "source": [
        "mse = metrics.mean_squared_error(Y_test, Y_test_pred)\n",
        "print(mse)"
      ],
      "execution_count": 45,
      "outputs": [
        {
          "output_type": "error",
          "ename": "NameError",
          "evalue": "ignored",
          "traceback": [
            "\u001b[0;31m---------------------------------------------------------------------------\u001b[0m",
            "\u001b[0;31mNameError\u001b[0m                                 Traceback (most recent call last)",
            "\u001b[0;32m<ipython-input-45-ee244e46d51e>\u001b[0m in \u001b[0;36m<module>\u001b[0;34m()\u001b[0m\n\u001b[0;32m----> 1\u001b[0;31m \u001b[0mmse\u001b[0m \u001b[0;34m=\u001b[0m \u001b[0mmetrics\u001b[0m\u001b[0;34m.\u001b[0m\u001b[0mmean_squared_error\u001b[0m\u001b[0;34m(\u001b[0m\u001b[0mY_test\u001b[0m\u001b[0;34m,\u001b[0m \u001b[0mY_test_pred\u001b[0m\u001b[0;34m)\u001b[0m\u001b[0;34m\u001b[0m\u001b[0;34m\u001b[0m\u001b[0m\n\u001b[0m\u001b[1;32m      2\u001b[0m \u001b[0mprint\u001b[0m\u001b[0;34m(\u001b[0m\u001b[0mmse\u001b[0m\u001b[0;34m)\u001b[0m\u001b[0;34m\u001b[0m\u001b[0;34m\u001b[0m\u001b[0m\n",
            "\u001b[0;31mNameError\u001b[0m: name 'metrics' is not defined"
          ]
        }
      ]
    }
  ]
}